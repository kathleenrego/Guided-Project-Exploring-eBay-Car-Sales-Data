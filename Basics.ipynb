{
  "nbformat": 4,
  "nbformat_minor": 0,
  "metadata": {
    "kernelspec": {
      "display_name": "Python 3",
      "language": "python",
      "name": "python3"
    },
    "language_info": {
      "codemirror_mode": {
        "name": "ipython",
        "version": 3
      },
      "file_extension": ".py",
      "mimetype": "text/x-python",
      "name": "python",
      "nbconvert_exporter": "python",
      "pygments_lexer": "ipython3",
      "version": "3.8.2"
    },
    "colab": {
      "name": "Basics.ipynb",
      "provenance": [],
      "collapsed_sections": []
    }
  },
  "cells": [
    {
      "cell_type": "markdown",
      "metadata": {
        "id": "9ylWar__-KUK"
      },
      "source": [
        "# **Projeto de exploração de dados de vendas de carros do eBay**\n",
        "\n",
        "Prof. Ivanovitch Silva\n",
        "\n",
        "UFRN - 2021.2\n",
        "\n",
        "## **Integrantes**\n",
        "\n",
        "*   Kathleen Noemi Duarte Rego\n",
        "\n",
        "*   Pedro Henrique de Souza Fonsêca dos Santos\n",
        "\n",
        "## **Informações do Projeto**\n",
        "\n",
        "### O dataset é composto de 50.000 dados de vendas e nosso objetivo é limpar os dados e analisar as listagens de carros.\n",
        "\n",
        "\n",
        "\n",
        "A base é composta pelos dados a seguir:\n",
        "\n",
        "* **dateCrawled:** Quando este anúncio foi rastreado pela primeira vez. Todos os valores de campo são obtidos a partir desta data;\n",
        "* **name:** Nome do carro;\n",
        "* **seller:** Se o vendedor é particular ou revendedor.\n",
        "* **offerType:** O tipo de listagem\n",
        "* **price:** O preço do anúncio de venda do carro.\n",
        "* **abtest:** Se a lista está incluída em um teste A / B.\n",
        "* **vehicleType:** O tipo de veículo.\n",
        "* **yearOfRegistration:** O ano em que o carro foi registrado pela primeira vez.\n",
        "* **gearbox:** O tipo de transmissão.\n",
        "* **powerPS:** O poder do carro no PS.\n",
        "* **model:** O nome do modelo do carro.\n",
        "* **kilometer:** Quantos quilômetros o carro percorreu.\n",
        "* **monthOfRegistration:** O mês em que o carro foi registrado pela primeira vez.\n",
        "* **fuelType:** Que tipo de combustível o carro usa.\n",
        "* **brand:** A marca do carro.\n",
        "* **notRepairedDamage:** Se o carro apresentar danos que ainda não foram reparados.\n",
        "* **dateCreated:** A data em que a lista do eBay foi criada.\n",
        "* **nrOfPictures:** O número de fotos no anúncio.\n",
        "* **postalCode:** O código postal da localização do veículo.\n",
        "* **lastSeenOnline:** Quando o rastreador viu este anúncio online pela última vez."
      ]
    },
    {
      "cell_type": "code",
      "metadata": {
        "id": "92ONOgCZ-KUO"
      },
      "source": [
        "import pandas as pd\n",
        "\n",
        "autos = pd.read_csv(\"autos.csv\", encoding=\"Latin-1\")"
      ],
      "execution_count": 4,
      "outputs": []
    },
    {
      "cell_type": "code",
      "metadata": {
        "id": "HwljKctY-KUP",
        "colab": {
          "base_uri": "https://localhost:8080/",
          "height": 779
        },
        "outputId": "180a4052-d7ec-4cca-aad6-2e1608346d3d"
      },
      "source": [
        "autos"
      ],
      "execution_count": 5,
      "outputs": [
        {
          "output_type": "execute_result",
          "data": {
            "text/html": [
              "<div>\n",
              "<style scoped>\n",
              "    .dataframe tbody tr th:only-of-type {\n",
              "        vertical-align: middle;\n",
              "    }\n",
              "\n",
              "    .dataframe tbody tr th {\n",
              "        vertical-align: top;\n",
              "    }\n",
              "\n",
              "    .dataframe thead th {\n",
              "        text-align: right;\n",
              "    }\n",
              "</style>\n",
              "<table border=\"1\" class=\"dataframe\">\n",
              "  <thead>\n",
              "    <tr style=\"text-align: right;\">\n",
              "      <th></th>\n",
              "      <th>dateCrawled</th>\n",
              "      <th>name</th>\n",
              "      <th>seller</th>\n",
              "      <th>offerType</th>\n",
              "      <th>price</th>\n",
              "      <th>abtest</th>\n",
              "      <th>vehicleType</th>\n",
              "      <th>yearOfRegistration</th>\n",
              "      <th>gearbox</th>\n",
              "      <th>powerPS</th>\n",
              "      <th>model</th>\n",
              "      <th>odometer</th>\n",
              "      <th>monthOfRegistration</th>\n",
              "      <th>fuelType</th>\n",
              "      <th>brand</th>\n",
              "      <th>notRepairedDamage</th>\n",
              "      <th>dateCreated</th>\n",
              "      <th>nrOfPictures</th>\n",
              "      <th>postalCode</th>\n",
              "      <th>lastSeen</th>\n",
              "    </tr>\n",
              "  </thead>\n",
              "  <tbody>\n",
              "    <tr>\n",
              "      <th>0</th>\n",
              "      <td>2016-03-26 17:47:46</td>\n",
              "      <td>Peugeot_807_160_NAVTECH_ON_BOARD</td>\n",
              "      <td>privat</td>\n",
              "      <td>Angebot</td>\n",
              "      <td>$5,000</td>\n",
              "      <td>control</td>\n",
              "      <td>bus</td>\n",
              "      <td>2004</td>\n",
              "      <td>manuell</td>\n",
              "      <td>158</td>\n",
              "      <td>andere</td>\n",
              "      <td>150,000km</td>\n",
              "      <td>3</td>\n",
              "      <td>lpg</td>\n",
              "      <td>peugeot</td>\n",
              "      <td>nein</td>\n",
              "      <td>2016-03-26 00:00:00</td>\n",
              "      <td>0</td>\n",
              "      <td>79588</td>\n",
              "      <td>2016-04-06 06:45:54</td>\n",
              "    </tr>\n",
              "    <tr>\n",
              "      <th>1</th>\n",
              "      <td>2016-04-04 13:38:56</td>\n",
              "      <td>BMW_740i_4_4_Liter_HAMANN_UMBAU_Mega_Optik</td>\n",
              "      <td>privat</td>\n",
              "      <td>Angebot</td>\n",
              "      <td>$8,500</td>\n",
              "      <td>control</td>\n",
              "      <td>limousine</td>\n",
              "      <td>1997</td>\n",
              "      <td>automatik</td>\n",
              "      <td>286</td>\n",
              "      <td>7er</td>\n",
              "      <td>150,000km</td>\n",
              "      <td>6</td>\n",
              "      <td>benzin</td>\n",
              "      <td>bmw</td>\n",
              "      <td>nein</td>\n",
              "      <td>2016-04-04 00:00:00</td>\n",
              "      <td>0</td>\n",
              "      <td>71034</td>\n",
              "      <td>2016-04-06 14:45:08</td>\n",
              "    </tr>\n",
              "    <tr>\n",
              "      <th>2</th>\n",
              "      <td>2016-03-26 18:57:24</td>\n",
              "      <td>Volkswagen_Golf_1.6_United</td>\n",
              "      <td>privat</td>\n",
              "      <td>Angebot</td>\n",
              "      <td>$8,990</td>\n",
              "      <td>test</td>\n",
              "      <td>limousine</td>\n",
              "      <td>2009</td>\n",
              "      <td>manuell</td>\n",
              "      <td>102</td>\n",
              "      <td>golf</td>\n",
              "      <td>70,000km</td>\n",
              "      <td>7</td>\n",
              "      <td>benzin</td>\n",
              "      <td>volkswagen</td>\n",
              "      <td>nein</td>\n",
              "      <td>2016-03-26 00:00:00</td>\n",
              "      <td>0</td>\n",
              "      <td>35394</td>\n",
              "      <td>2016-04-06 20:15:37</td>\n",
              "    </tr>\n",
              "    <tr>\n",
              "      <th>3</th>\n",
              "      <td>2016-03-12 16:58:10</td>\n",
              "      <td>Smart_smart_fortwo_coupe_softouch/F1/Klima/Pan...</td>\n",
              "      <td>privat</td>\n",
              "      <td>Angebot</td>\n",
              "      <td>$4,350</td>\n",
              "      <td>control</td>\n",
              "      <td>kleinwagen</td>\n",
              "      <td>2007</td>\n",
              "      <td>automatik</td>\n",
              "      <td>71</td>\n",
              "      <td>fortwo</td>\n",
              "      <td>70,000km</td>\n",
              "      <td>6</td>\n",
              "      <td>benzin</td>\n",
              "      <td>smart</td>\n",
              "      <td>nein</td>\n",
              "      <td>2016-03-12 00:00:00</td>\n",
              "      <td>0</td>\n",
              "      <td>33729</td>\n",
              "      <td>2016-03-15 03:16:28</td>\n",
              "    </tr>\n",
              "    <tr>\n",
              "      <th>4</th>\n",
              "      <td>2016-04-01 14:38:50</td>\n",
              "      <td>Ford_Focus_1_6_Benzin_TÜV_neu_ist_sehr_gepfleg...</td>\n",
              "      <td>privat</td>\n",
              "      <td>Angebot</td>\n",
              "      <td>$1,350</td>\n",
              "      <td>test</td>\n",
              "      <td>kombi</td>\n",
              "      <td>2003</td>\n",
              "      <td>manuell</td>\n",
              "      <td>0</td>\n",
              "      <td>focus</td>\n",
              "      <td>150,000km</td>\n",
              "      <td>7</td>\n",
              "      <td>benzin</td>\n",
              "      <td>ford</td>\n",
              "      <td>nein</td>\n",
              "      <td>2016-04-01 00:00:00</td>\n",
              "      <td>0</td>\n",
              "      <td>39218</td>\n",
              "      <td>2016-04-01 14:38:50</td>\n",
              "    </tr>\n",
              "    <tr>\n",
              "      <th>...</th>\n",
              "      <td>...</td>\n",
              "      <td>...</td>\n",
              "      <td>...</td>\n",
              "      <td>...</td>\n",
              "      <td>...</td>\n",
              "      <td>...</td>\n",
              "      <td>...</td>\n",
              "      <td>...</td>\n",
              "      <td>...</td>\n",
              "      <td>...</td>\n",
              "      <td>...</td>\n",
              "      <td>...</td>\n",
              "      <td>...</td>\n",
              "      <td>...</td>\n",
              "      <td>...</td>\n",
              "      <td>...</td>\n",
              "      <td>...</td>\n",
              "      <td>...</td>\n",
              "      <td>...</td>\n",
              "      <td>...</td>\n",
              "    </tr>\n",
              "    <tr>\n",
              "      <th>49995</th>\n",
              "      <td>2016-03-27 14:38:19</td>\n",
              "      <td>Audi_Q5_3.0_TDI_qu._S_tr.__Navi__Panorama__Xenon</td>\n",
              "      <td>privat</td>\n",
              "      <td>Angebot</td>\n",
              "      <td>$24,900</td>\n",
              "      <td>control</td>\n",
              "      <td>limousine</td>\n",
              "      <td>2011</td>\n",
              "      <td>automatik</td>\n",
              "      <td>239</td>\n",
              "      <td>q5</td>\n",
              "      <td>100,000km</td>\n",
              "      <td>1</td>\n",
              "      <td>diesel</td>\n",
              "      <td>audi</td>\n",
              "      <td>nein</td>\n",
              "      <td>2016-03-27 00:00:00</td>\n",
              "      <td>0</td>\n",
              "      <td>82131</td>\n",
              "      <td>2016-04-01 13:47:40</td>\n",
              "    </tr>\n",
              "    <tr>\n",
              "      <th>49996</th>\n",
              "      <td>2016-03-28 10:50:25</td>\n",
              "      <td>Opel_Astra_F_Cabrio_Bertone_Edition___TÜV_neu+...</td>\n",
              "      <td>privat</td>\n",
              "      <td>Angebot</td>\n",
              "      <td>$1,980</td>\n",
              "      <td>control</td>\n",
              "      <td>cabrio</td>\n",
              "      <td>1996</td>\n",
              "      <td>manuell</td>\n",
              "      <td>75</td>\n",
              "      <td>astra</td>\n",
              "      <td>150,000km</td>\n",
              "      <td>5</td>\n",
              "      <td>benzin</td>\n",
              "      <td>opel</td>\n",
              "      <td>nein</td>\n",
              "      <td>2016-03-28 00:00:00</td>\n",
              "      <td>0</td>\n",
              "      <td>44807</td>\n",
              "      <td>2016-04-02 14:18:02</td>\n",
              "    </tr>\n",
              "    <tr>\n",
              "      <th>49997</th>\n",
              "      <td>2016-04-02 14:44:48</td>\n",
              "      <td>Fiat_500_C_1.2_Dualogic_Lounge</td>\n",
              "      <td>privat</td>\n",
              "      <td>Angebot</td>\n",
              "      <td>$13,200</td>\n",
              "      <td>test</td>\n",
              "      <td>cabrio</td>\n",
              "      <td>2014</td>\n",
              "      <td>automatik</td>\n",
              "      <td>69</td>\n",
              "      <td>500</td>\n",
              "      <td>5,000km</td>\n",
              "      <td>11</td>\n",
              "      <td>benzin</td>\n",
              "      <td>fiat</td>\n",
              "      <td>nein</td>\n",
              "      <td>2016-04-02 00:00:00</td>\n",
              "      <td>0</td>\n",
              "      <td>73430</td>\n",
              "      <td>2016-04-04 11:47:27</td>\n",
              "    </tr>\n",
              "    <tr>\n",
              "      <th>49998</th>\n",
              "      <td>2016-03-08 19:25:42</td>\n",
              "      <td>Audi_A3_2.0_TDI_Sportback_Ambition</td>\n",
              "      <td>privat</td>\n",
              "      <td>Angebot</td>\n",
              "      <td>$22,900</td>\n",
              "      <td>control</td>\n",
              "      <td>kombi</td>\n",
              "      <td>2013</td>\n",
              "      <td>manuell</td>\n",
              "      <td>150</td>\n",
              "      <td>a3</td>\n",
              "      <td>40,000km</td>\n",
              "      <td>11</td>\n",
              "      <td>diesel</td>\n",
              "      <td>audi</td>\n",
              "      <td>nein</td>\n",
              "      <td>2016-03-08 00:00:00</td>\n",
              "      <td>0</td>\n",
              "      <td>35683</td>\n",
              "      <td>2016-04-05 16:45:07</td>\n",
              "    </tr>\n",
              "    <tr>\n",
              "      <th>49999</th>\n",
              "      <td>2016-03-14 00:42:12</td>\n",
              "      <td>Opel_Vectra_1.6_16V</td>\n",
              "      <td>privat</td>\n",
              "      <td>Angebot</td>\n",
              "      <td>$1,250</td>\n",
              "      <td>control</td>\n",
              "      <td>limousine</td>\n",
              "      <td>1996</td>\n",
              "      <td>manuell</td>\n",
              "      <td>101</td>\n",
              "      <td>vectra</td>\n",
              "      <td>150,000km</td>\n",
              "      <td>1</td>\n",
              "      <td>benzin</td>\n",
              "      <td>opel</td>\n",
              "      <td>nein</td>\n",
              "      <td>2016-03-13 00:00:00</td>\n",
              "      <td>0</td>\n",
              "      <td>45897</td>\n",
              "      <td>2016-04-06 21:18:48</td>\n",
              "    </tr>\n",
              "  </tbody>\n",
              "</table>\n",
              "<p>50000 rows × 20 columns</p>\n",
              "</div>"
            ],
            "text/plain": [
              "               dateCrawled  ...             lastSeen\n",
              "0      2016-03-26 17:47:46  ...  2016-04-06 06:45:54\n",
              "1      2016-04-04 13:38:56  ...  2016-04-06 14:45:08\n",
              "2      2016-03-26 18:57:24  ...  2016-04-06 20:15:37\n",
              "3      2016-03-12 16:58:10  ...  2016-03-15 03:16:28\n",
              "4      2016-04-01 14:38:50  ...  2016-04-01 14:38:50\n",
              "...                    ...  ...                  ...\n",
              "49995  2016-03-27 14:38:19  ...  2016-04-01 13:47:40\n",
              "49996  2016-03-28 10:50:25  ...  2016-04-02 14:18:02\n",
              "49997  2016-04-02 14:44:48  ...  2016-04-04 11:47:27\n",
              "49998  2016-03-08 19:25:42  ...  2016-04-05 16:45:07\n",
              "49999  2016-03-14 00:42:12  ...  2016-04-06 21:18:48\n",
              "\n",
              "[50000 rows x 20 columns]"
            ]
          },
          "metadata": {},
          "execution_count": 5
        }
      ]
    },
    {
      "cell_type": "code",
      "metadata": {
        "id": "6tOMW9SL-KUQ",
        "colab": {
          "base_uri": "https://localhost:8080/",
          "height": 853
        },
        "outputId": "fe9273e8-806f-48b8-bca4-a44ccde06895"
      },
      "source": [
        "autos.info()\n",
        "autos.head()"
      ],
      "execution_count": 6,
      "outputs": [
        {
          "output_type": "stream",
          "name": "stdout",
          "text": [
            "<class 'pandas.core.frame.DataFrame'>\n",
            "RangeIndex: 50000 entries, 0 to 49999\n",
            "Data columns (total 20 columns):\n",
            " #   Column               Non-Null Count  Dtype \n",
            "---  ------               --------------  ----- \n",
            " 0   dateCrawled          50000 non-null  object\n",
            " 1   name                 50000 non-null  object\n",
            " 2   seller               50000 non-null  object\n",
            " 3   offerType            50000 non-null  object\n",
            " 4   price                50000 non-null  object\n",
            " 5   abtest               50000 non-null  object\n",
            " 6   vehicleType          44905 non-null  object\n",
            " 7   yearOfRegistration   50000 non-null  int64 \n",
            " 8   gearbox              47320 non-null  object\n",
            " 9   powerPS              50000 non-null  int64 \n",
            " 10  model                47242 non-null  object\n",
            " 11  odometer             50000 non-null  object\n",
            " 12  monthOfRegistration  50000 non-null  int64 \n",
            " 13  fuelType             45518 non-null  object\n",
            " 14  brand                50000 non-null  object\n",
            " 15  notRepairedDamage    40171 non-null  object\n",
            " 16  dateCreated          50000 non-null  object\n",
            " 17  nrOfPictures         50000 non-null  int64 \n",
            " 18  postalCode           50000 non-null  int64 \n",
            " 19  lastSeen             50000 non-null  object\n",
            "dtypes: int64(5), object(15)\n",
            "memory usage: 7.6+ MB\n"
          ]
        },
        {
          "output_type": "execute_result",
          "data": {
            "text/html": [
              "<div>\n",
              "<style scoped>\n",
              "    .dataframe tbody tr th:only-of-type {\n",
              "        vertical-align: middle;\n",
              "    }\n",
              "\n",
              "    .dataframe tbody tr th {\n",
              "        vertical-align: top;\n",
              "    }\n",
              "\n",
              "    .dataframe thead th {\n",
              "        text-align: right;\n",
              "    }\n",
              "</style>\n",
              "<table border=\"1\" class=\"dataframe\">\n",
              "  <thead>\n",
              "    <tr style=\"text-align: right;\">\n",
              "      <th></th>\n",
              "      <th>dateCrawled</th>\n",
              "      <th>name</th>\n",
              "      <th>seller</th>\n",
              "      <th>offerType</th>\n",
              "      <th>price</th>\n",
              "      <th>abtest</th>\n",
              "      <th>vehicleType</th>\n",
              "      <th>yearOfRegistration</th>\n",
              "      <th>gearbox</th>\n",
              "      <th>powerPS</th>\n",
              "      <th>model</th>\n",
              "      <th>odometer</th>\n",
              "      <th>monthOfRegistration</th>\n",
              "      <th>fuelType</th>\n",
              "      <th>brand</th>\n",
              "      <th>notRepairedDamage</th>\n",
              "      <th>dateCreated</th>\n",
              "      <th>nrOfPictures</th>\n",
              "      <th>postalCode</th>\n",
              "      <th>lastSeen</th>\n",
              "    </tr>\n",
              "  </thead>\n",
              "  <tbody>\n",
              "    <tr>\n",
              "      <th>0</th>\n",
              "      <td>2016-03-26 17:47:46</td>\n",
              "      <td>Peugeot_807_160_NAVTECH_ON_BOARD</td>\n",
              "      <td>privat</td>\n",
              "      <td>Angebot</td>\n",
              "      <td>$5,000</td>\n",
              "      <td>control</td>\n",
              "      <td>bus</td>\n",
              "      <td>2004</td>\n",
              "      <td>manuell</td>\n",
              "      <td>158</td>\n",
              "      <td>andere</td>\n",
              "      <td>150,000km</td>\n",
              "      <td>3</td>\n",
              "      <td>lpg</td>\n",
              "      <td>peugeot</td>\n",
              "      <td>nein</td>\n",
              "      <td>2016-03-26 00:00:00</td>\n",
              "      <td>0</td>\n",
              "      <td>79588</td>\n",
              "      <td>2016-04-06 06:45:54</td>\n",
              "    </tr>\n",
              "    <tr>\n",
              "      <th>1</th>\n",
              "      <td>2016-04-04 13:38:56</td>\n",
              "      <td>BMW_740i_4_4_Liter_HAMANN_UMBAU_Mega_Optik</td>\n",
              "      <td>privat</td>\n",
              "      <td>Angebot</td>\n",
              "      <td>$8,500</td>\n",
              "      <td>control</td>\n",
              "      <td>limousine</td>\n",
              "      <td>1997</td>\n",
              "      <td>automatik</td>\n",
              "      <td>286</td>\n",
              "      <td>7er</td>\n",
              "      <td>150,000km</td>\n",
              "      <td>6</td>\n",
              "      <td>benzin</td>\n",
              "      <td>bmw</td>\n",
              "      <td>nein</td>\n",
              "      <td>2016-04-04 00:00:00</td>\n",
              "      <td>0</td>\n",
              "      <td>71034</td>\n",
              "      <td>2016-04-06 14:45:08</td>\n",
              "    </tr>\n",
              "    <tr>\n",
              "      <th>2</th>\n",
              "      <td>2016-03-26 18:57:24</td>\n",
              "      <td>Volkswagen_Golf_1.6_United</td>\n",
              "      <td>privat</td>\n",
              "      <td>Angebot</td>\n",
              "      <td>$8,990</td>\n",
              "      <td>test</td>\n",
              "      <td>limousine</td>\n",
              "      <td>2009</td>\n",
              "      <td>manuell</td>\n",
              "      <td>102</td>\n",
              "      <td>golf</td>\n",
              "      <td>70,000km</td>\n",
              "      <td>7</td>\n",
              "      <td>benzin</td>\n",
              "      <td>volkswagen</td>\n",
              "      <td>nein</td>\n",
              "      <td>2016-03-26 00:00:00</td>\n",
              "      <td>0</td>\n",
              "      <td>35394</td>\n",
              "      <td>2016-04-06 20:15:37</td>\n",
              "    </tr>\n",
              "    <tr>\n",
              "      <th>3</th>\n",
              "      <td>2016-03-12 16:58:10</td>\n",
              "      <td>Smart_smart_fortwo_coupe_softouch/F1/Klima/Pan...</td>\n",
              "      <td>privat</td>\n",
              "      <td>Angebot</td>\n",
              "      <td>$4,350</td>\n",
              "      <td>control</td>\n",
              "      <td>kleinwagen</td>\n",
              "      <td>2007</td>\n",
              "      <td>automatik</td>\n",
              "      <td>71</td>\n",
              "      <td>fortwo</td>\n",
              "      <td>70,000km</td>\n",
              "      <td>6</td>\n",
              "      <td>benzin</td>\n",
              "      <td>smart</td>\n",
              "      <td>nein</td>\n",
              "      <td>2016-03-12 00:00:00</td>\n",
              "      <td>0</td>\n",
              "      <td>33729</td>\n",
              "      <td>2016-03-15 03:16:28</td>\n",
              "    </tr>\n",
              "    <tr>\n",
              "      <th>4</th>\n",
              "      <td>2016-04-01 14:38:50</td>\n",
              "      <td>Ford_Focus_1_6_Benzin_TÜV_neu_ist_sehr_gepfleg...</td>\n",
              "      <td>privat</td>\n",
              "      <td>Angebot</td>\n",
              "      <td>$1,350</td>\n",
              "      <td>test</td>\n",
              "      <td>kombi</td>\n",
              "      <td>2003</td>\n",
              "      <td>manuell</td>\n",
              "      <td>0</td>\n",
              "      <td>focus</td>\n",
              "      <td>150,000km</td>\n",
              "      <td>7</td>\n",
              "      <td>benzin</td>\n",
              "      <td>ford</td>\n",
              "      <td>nein</td>\n",
              "      <td>2016-04-01 00:00:00</td>\n",
              "      <td>0</td>\n",
              "      <td>39218</td>\n",
              "      <td>2016-04-01 14:38:50</td>\n",
              "    </tr>\n",
              "  </tbody>\n",
              "</table>\n",
              "</div>"
            ],
            "text/plain": [
              "           dateCrawled  ...             lastSeen\n",
              "0  2016-03-26 17:47:46  ...  2016-04-06 06:45:54\n",
              "1  2016-04-04 13:38:56  ...  2016-04-06 14:45:08\n",
              "2  2016-03-26 18:57:24  ...  2016-04-06 20:15:37\n",
              "3  2016-03-12 16:58:10  ...  2016-03-15 03:16:28\n",
              "4  2016-04-01 14:38:50  ...  2016-04-01 14:38:50\n",
              "\n",
              "[5 rows x 20 columns]"
            ]
          },
          "metadata": {},
          "execution_count": 6
        }
      ]
    },
    {
      "cell_type": "markdown",
      "metadata": {
        "id": "ceLcKmXW-KUR"
      },
      "source": [
        "Podemos ver que nas colunas vehicleType, gearbox, model, fuelType, notRepairedDamage há valores nulos que precisam ser limpados."
      ]
    },
    {
      "cell_type": "markdown",
      "metadata": {
        "id": "FfckuwJU-KUS"
      },
      "source": [
        "### Convertendo o padrão dos nomes das colunas\n",
        "\n",
        "O padrão dos nomes das colunas estão em camelcase, e mudaremos para snakecase"
      ]
    },
    {
      "cell_type": "code",
      "metadata": {
        "id": "eKN60FL4-KUT",
        "colab": {
          "base_uri": "https://localhost:8080/"
        },
        "outputId": "99c22d6a-00c1-469c-e29a-0c8c08a6c725"
      },
      "source": [
        "print(autos.columns)"
      ],
      "execution_count": 7,
      "outputs": [
        {
          "output_type": "stream",
          "name": "stdout",
          "text": [
            "Index(['dateCrawled', 'name', 'seller', 'offerType', 'price', 'abtest',\n",
            "       'vehicleType', 'yearOfRegistration', 'gearbox', 'powerPS', 'model',\n",
            "       'odometer', 'monthOfRegistration', 'fuelType', 'brand',\n",
            "       'notRepairedDamage', 'dateCreated', 'nrOfPictures', 'postalCode',\n",
            "       'lastSeen'],\n",
            "      dtype='object')\n"
          ]
        }
      ]
    },
    {
      "cell_type": "code",
      "metadata": {
        "id": "-ADSM3vz-KUT",
        "colab": {
          "base_uri": "https://localhost:8080/",
          "height": 394
        },
        "outputId": "59a3b770-e0bd-4f00-b34b-b56b5cfa0b7b"
      },
      "source": [
        "mapping_dict = {'yearOfRegistration': 'registration_year',\n",
        "                'monthOfRegistration': 'registration_month',\n",
        "                'notRepairedDamage': 'unrepaired_damage',\n",
        "                'dateCreated': 'ad_created',\n",
        "                'postalCode': 'postal_code',\n",
        "                'lastSeen': 'last_seen',\n",
        "                'nrOfPictures': 'number_of_pictures',\n",
        "                'vehicleType': 'vehicle_type',\n",
        "                'fuelType': 'fuel_type',\n",
        "                'dateCrawled': 'ad_crawled',\n",
        "                'offerType': 'offer_type',\n",
        "                'powerPS': 'power_ps'}\n",
        "autos.rename(columns = mapping_dict, inplace=True)\n",
        "autos.head()"
      ],
      "execution_count": 8,
      "outputs": [
        {
          "output_type": "execute_result",
          "data": {
            "text/html": [
              "<div>\n",
              "<style scoped>\n",
              "    .dataframe tbody tr th:only-of-type {\n",
              "        vertical-align: middle;\n",
              "    }\n",
              "\n",
              "    .dataframe tbody tr th {\n",
              "        vertical-align: top;\n",
              "    }\n",
              "\n",
              "    .dataframe thead th {\n",
              "        text-align: right;\n",
              "    }\n",
              "</style>\n",
              "<table border=\"1\" class=\"dataframe\">\n",
              "  <thead>\n",
              "    <tr style=\"text-align: right;\">\n",
              "      <th></th>\n",
              "      <th>ad_crawled</th>\n",
              "      <th>name</th>\n",
              "      <th>seller</th>\n",
              "      <th>offer_type</th>\n",
              "      <th>price</th>\n",
              "      <th>abtest</th>\n",
              "      <th>vehicle_type</th>\n",
              "      <th>registration_year</th>\n",
              "      <th>gearbox</th>\n",
              "      <th>power_ps</th>\n",
              "      <th>model</th>\n",
              "      <th>odometer</th>\n",
              "      <th>registration_month</th>\n",
              "      <th>fuel_type</th>\n",
              "      <th>brand</th>\n",
              "      <th>unrepaired_damage</th>\n",
              "      <th>ad_created</th>\n",
              "      <th>number_of_pictures</th>\n",
              "      <th>postal_code</th>\n",
              "      <th>last_seen</th>\n",
              "    </tr>\n",
              "  </thead>\n",
              "  <tbody>\n",
              "    <tr>\n",
              "      <th>0</th>\n",
              "      <td>2016-03-26 17:47:46</td>\n",
              "      <td>Peugeot_807_160_NAVTECH_ON_BOARD</td>\n",
              "      <td>privat</td>\n",
              "      <td>Angebot</td>\n",
              "      <td>$5,000</td>\n",
              "      <td>control</td>\n",
              "      <td>bus</td>\n",
              "      <td>2004</td>\n",
              "      <td>manuell</td>\n",
              "      <td>158</td>\n",
              "      <td>andere</td>\n",
              "      <td>150,000km</td>\n",
              "      <td>3</td>\n",
              "      <td>lpg</td>\n",
              "      <td>peugeot</td>\n",
              "      <td>nein</td>\n",
              "      <td>2016-03-26 00:00:00</td>\n",
              "      <td>0</td>\n",
              "      <td>79588</td>\n",
              "      <td>2016-04-06 06:45:54</td>\n",
              "    </tr>\n",
              "    <tr>\n",
              "      <th>1</th>\n",
              "      <td>2016-04-04 13:38:56</td>\n",
              "      <td>BMW_740i_4_4_Liter_HAMANN_UMBAU_Mega_Optik</td>\n",
              "      <td>privat</td>\n",
              "      <td>Angebot</td>\n",
              "      <td>$8,500</td>\n",
              "      <td>control</td>\n",
              "      <td>limousine</td>\n",
              "      <td>1997</td>\n",
              "      <td>automatik</td>\n",
              "      <td>286</td>\n",
              "      <td>7er</td>\n",
              "      <td>150,000km</td>\n",
              "      <td>6</td>\n",
              "      <td>benzin</td>\n",
              "      <td>bmw</td>\n",
              "      <td>nein</td>\n",
              "      <td>2016-04-04 00:00:00</td>\n",
              "      <td>0</td>\n",
              "      <td>71034</td>\n",
              "      <td>2016-04-06 14:45:08</td>\n",
              "    </tr>\n",
              "    <tr>\n",
              "      <th>2</th>\n",
              "      <td>2016-03-26 18:57:24</td>\n",
              "      <td>Volkswagen_Golf_1.6_United</td>\n",
              "      <td>privat</td>\n",
              "      <td>Angebot</td>\n",
              "      <td>$8,990</td>\n",
              "      <td>test</td>\n",
              "      <td>limousine</td>\n",
              "      <td>2009</td>\n",
              "      <td>manuell</td>\n",
              "      <td>102</td>\n",
              "      <td>golf</td>\n",
              "      <td>70,000km</td>\n",
              "      <td>7</td>\n",
              "      <td>benzin</td>\n",
              "      <td>volkswagen</td>\n",
              "      <td>nein</td>\n",
              "      <td>2016-03-26 00:00:00</td>\n",
              "      <td>0</td>\n",
              "      <td>35394</td>\n",
              "      <td>2016-04-06 20:15:37</td>\n",
              "    </tr>\n",
              "    <tr>\n",
              "      <th>3</th>\n",
              "      <td>2016-03-12 16:58:10</td>\n",
              "      <td>Smart_smart_fortwo_coupe_softouch/F1/Klima/Pan...</td>\n",
              "      <td>privat</td>\n",
              "      <td>Angebot</td>\n",
              "      <td>$4,350</td>\n",
              "      <td>control</td>\n",
              "      <td>kleinwagen</td>\n",
              "      <td>2007</td>\n",
              "      <td>automatik</td>\n",
              "      <td>71</td>\n",
              "      <td>fortwo</td>\n",
              "      <td>70,000km</td>\n",
              "      <td>6</td>\n",
              "      <td>benzin</td>\n",
              "      <td>smart</td>\n",
              "      <td>nein</td>\n",
              "      <td>2016-03-12 00:00:00</td>\n",
              "      <td>0</td>\n",
              "      <td>33729</td>\n",
              "      <td>2016-03-15 03:16:28</td>\n",
              "    </tr>\n",
              "    <tr>\n",
              "      <th>4</th>\n",
              "      <td>2016-04-01 14:38:50</td>\n",
              "      <td>Ford_Focus_1_6_Benzin_TÜV_neu_ist_sehr_gepfleg...</td>\n",
              "      <td>privat</td>\n",
              "      <td>Angebot</td>\n",
              "      <td>$1,350</td>\n",
              "      <td>test</td>\n",
              "      <td>kombi</td>\n",
              "      <td>2003</td>\n",
              "      <td>manuell</td>\n",
              "      <td>0</td>\n",
              "      <td>focus</td>\n",
              "      <td>150,000km</td>\n",
              "      <td>7</td>\n",
              "      <td>benzin</td>\n",
              "      <td>ford</td>\n",
              "      <td>nein</td>\n",
              "      <td>2016-04-01 00:00:00</td>\n",
              "      <td>0</td>\n",
              "      <td>39218</td>\n",
              "      <td>2016-04-01 14:38:50</td>\n",
              "    </tr>\n",
              "  </tbody>\n",
              "</table>\n",
              "</div>"
            ],
            "text/plain": [
              "            ad_crawled  ...            last_seen\n",
              "0  2016-03-26 17:47:46  ...  2016-04-06 06:45:54\n",
              "1  2016-04-04 13:38:56  ...  2016-04-06 14:45:08\n",
              "2  2016-03-26 18:57:24  ...  2016-04-06 20:15:37\n",
              "3  2016-03-12 16:58:10  ...  2016-03-15 03:16:28\n",
              "4  2016-04-01 14:38:50  ...  2016-04-01 14:38:50\n",
              "\n",
              "[5 rows x 20 columns]"
            ]
          },
          "metadata": {},
          "execution_count": 8
        }
      ]
    },
    {
      "cell_type": "markdown",
      "metadata": {
        "id": "-U864Bui-KUU"
      },
      "source": [
        "As colunas foram modificadas para o padrão snakecase, que utiliza o separador '_'."
      ]
    },
    {
      "cell_type": "markdown",
      "metadata": {
        "id": "stpqY2IO-KUV"
      },
      "source": [
        "### Explorando dados que podem ser modificados\n",
        "\n",
        "Verificaremos os dados que poderiam se tornar numéricos, que poderiam ser retirados do dataset ou que estão com valores considerados estranhos."
      ]
    },
    {
      "cell_type": "code",
      "metadata": {
        "id": "IgWmo54--KUV",
        "colab": {
          "base_uri": "https://localhost:8080/",
          "height": 444
        },
        "outputId": "a8ffe13b-411a-477e-93dd-f623ec471091"
      },
      "source": [
        "autos.describe(include='all')"
      ],
      "execution_count": 9,
      "outputs": [
        {
          "output_type": "execute_result",
          "data": {
            "text/html": [
              "<div>\n",
              "<style scoped>\n",
              "    .dataframe tbody tr th:only-of-type {\n",
              "        vertical-align: middle;\n",
              "    }\n",
              "\n",
              "    .dataframe tbody tr th {\n",
              "        vertical-align: top;\n",
              "    }\n",
              "\n",
              "    .dataframe thead th {\n",
              "        text-align: right;\n",
              "    }\n",
              "</style>\n",
              "<table border=\"1\" class=\"dataframe\">\n",
              "  <thead>\n",
              "    <tr style=\"text-align: right;\">\n",
              "      <th></th>\n",
              "      <th>ad_crawled</th>\n",
              "      <th>name</th>\n",
              "      <th>seller</th>\n",
              "      <th>offer_type</th>\n",
              "      <th>price</th>\n",
              "      <th>abtest</th>\n",
              "      <th>vehicle_type</th>\n",
              "      <th>registration_year</th>\n",
              "      <th>gearbox</th>\n",
              "      <th>power_ps</th>\n",
              "      <th>model</th>\n",
              "      <th>odometer</th>\n",
              "      <th>registration_month</th>\n",
              "      <th>fuel_type</th>\n",
              "      <th>brand</th>\n",
              "      <th>unrepaired_damage</th>\n",
              "      <th>ad_created</th>\n",
              "      <th>number_of_pictures</th>\n",
              "      <th>postal_code</th>\n",
              "      <th>last_seen</th>\n",
              "    </tr>\n",
              "  </thead>\n",
              "  <tbody>\n",
              "    <tr>\n",
              "      <th>count</th>\n",
              "      <td>50000</td>\n",
              "      <td>50000</td>\n",
              "      <td>50000</td>\n",
              "      <td>50000</td>\n",
              "      <td>50000</td>\n",
              "      <td>50000</td>\n",
              "      <td>44905</td>\n",
              "      <td>50000.000000</td>\n",
              "      <td>47320</td>\n",
              "      <td>50000.000000</td>\n",
              "      <td>47242</td>\n",
              "      <td>50000</td>\n",
              "      <td>50000.000000</td>\n",
              "      <td>45518</td>\n",
              "      <td>50000</td>\n",
              "      <td>40171</td>\n",
              "      <td>50000</td>\n",
              "      <td>50000.0</td>\n",
              "      <td>50000.000000</td>\n",
              "      <td>50000</td>\n",
              "    </tr>\n",
              "    <tr>\n",
              "      <th>unique</th>\n",
              "      <td>48213</td>\n",
              "      <td>38754</td>\n",
              "      <td>2</td>\n",
              "      <td>2</td>\n",
              "      <td>2357</td>\n",
              "      <td>2</td>\n",
              "      <td>8</td>\n",
              "      <td>NaN</td>\n",
              "      <td>2</td>\n",
              "      <td>NaN</td>\n",
              "      <td>245</td>\n",
              "      <td>13</td>\n",
              "      <td>NaN</td>\n",
              "      <td>7</td>\n",
              "      <td>40</td>\n",
              "      <td>2</td>\n",
              "      <td>76</td>\n",
              "      <td>NaN</td>\n",
              "      <td>NaN</td>\n",
              "      <td>39481</td>\n",
              "    </tr>\n",
              "    <tr>\n",
              "      <th>top</th>\n",
              "      <td>2016-03-23 18:39:34</td>\n",
              "      <td>Ford_Fiesta</td>\n",
              "      <td>privat</td>\n",
              "      <td>Angebot</td>\n",
              "      <td>$0</td>\n",
              "      <td>test</td>\n",
              "      <td>limousine</td>\n",
              "      <td>NaN</td>\n",
              "      <td>manuell</td>\n",
              "      <td>NaN</td>\n",
              "      <td>golf</td>\n",
              "      <td>150,000km</td>\n",
              "      <td>NaN</td>\n",
              "      <td>benzin</td>\n",
              "      <td>volkswagen</td>\n",
              "      <td>nein</td>\n",
              "      <td>2016-04-03 00:00:00</td>\n",
              "      <td>NaN</td>\n",
              "      <td>NaN</td>\n",
              "      <td>2016-04-07 06:17:27</td>\n",
              "    </tr>\n",
              "    <tr>\n",
              "      <th>freq</th>\n",
              "      <td>3</td>\n",
              "      <td>78</td>\n",
              "      <td>49999</td>\n",
              "      <td>49999</td>\n",
              "      <td>1421</td>\n",
              "      <td>25756</td>\n",
              "      <td>12859</td>\n",
              "      <td>NaN</td>\n",
              "      <td>36993</td>\n",
              "      <td>NaN</td>\n",
              "      <td>4024</td>\n",
              "      <td>32424</td>\n",
              "      <td>NaN</td>\n",
              "      <td>30107</td>\n",
              "      <td>10687</td>\n",
              "      <td>35232</td>\n",
              "      <td>1946</td>\n",
              "      <td>NaN</td>\n",
              "      <td>NaN</td>\n",
              "      <td>8</td>\n",
              "    </tr>\n",
              "    <tr>\n",
              "      <th>mean</th>\n",
              "      <td>NaN</td>\n",
              "      <td>NaN</td>\n",
              "      <td>NaN</td>\n",
              "      <td>NaN</td>\n",
              "      <td>NaN</td>\n",
              "      <td>NaN</td>\n",
              "      <td>NaN</td>\n",
              "      <td>2005.073280</td>\n",
              "      <td>NaN</td>\n",
              "      <td>116.355920</td>\n",
              "      <td>NaN</td>\n",
              "      <td>NaN</td>\n",
              "      <td>5.723360</td>\n",
              "      <td>NaN</td>\n",
              "      <td>NaN</td>\n",
              "      <td>NaN</td>\n",
              "      <td>NaN</td>\n",
              "      <td>0.0</td>\n",
              "      <td>50813.627300</td>\n",
              "      <td>NaN</td>\n",
              "    </tr>\n",
              "    <tr>\n",
              "      <th>std</th>\n",
              "      <td>NaN</td>\n",
              "      <td>NaN</td>\n",
              "      <td>NaN</td>\n",
              "      <td>NaN</td>\n",
              "      <td>NaN</td>\n",
              "      <td>NaN</td>\n",
              "      <td>NaN</td>\n",
              "      <td>105.712813</td>\n",
              "      <td>NaN</td>\n",
              "      <td>209.216627</td>\n",
              "      <td>NaN</td>\n",
              "      <td>NaN</td>\n",
              "      <td>3.711984</td>\n",
              "      <td>NaN</td>\n",
              "      <td>NaN</td>\n",
              "      <td>NaN</td>\n",
              "      <td>NaN</td>\n",
              "      <td>0.0</td>\n",
              "      <td>25779.747957</td>\n",
              "      <td>NaN</td>\n",
              "    </tr>\n",
              "    <tr>\n",
              "      <th>min</th>\n",
              "      <td>NaN</td>\n",
              "      <td>NaN</td>\n",
              "      <td>NaN</td>\n",
              "      <td>NaN</td>\n",
              "      <td>NaN</td>\n",
              "      <td>NaN</td>\n",
              "      <td>NaN</td>\n",
              "      <td>1000.000000</td>\n",
              "      <td>NaN</td>\n",
              "      <td>0.000000</td>\n",
              "      <td>NaN</td>\n",
              "      <td>NaN</td>\n",
              "      <td>0.000000</td>\n",
              "      <td>NaN</td>\n",
              "      <td>NaN</td>\n",
              "      <td>NaN</td>\n",
              "      <td>NaN</td>\n",
              "      <td>0.0</td>\n",
              "      <td>1067.000000</td>\n",
              "      <td>NaN</td>\n",
              "    </tr>\n",
              "    <tr>\n",
              "      <th>25%</th>\n",
              "      <td>NaN</td>\n",
              "      <td>NaN</td>\n",
              "      <td>NaN</td>\n",
              "      <td>NaN</td>\n",
              "      <td>NaN</td>\n",
              "      <td>NaN</td>\n",
              "      <td>NaN</td>\n",
              "      <td>1999.000000</td>\n",
              "      <td>NaN</td>\n",
              "      <td>70.000000</td>\n",
              "      <td>NaN</td>\n",
              "      <td>NaN</td>\n",
              "      <td>3.000000</td>\n",
              "      <td>NaN</td>\n",
              "      <td>NaN</td>\n",
              "      <td>NaN</td>\n",
              "      <td>NaN</td>\n",
              "      <td>0.0</td>\n",
              "      <td>30451.000000</td>\n",
              "      <td>NaN</td>\n",
              "    </tr>\n",
              "    <tr>\n",
              "      <th>50%</th>\n",
              "      <td>NaN</td>\n",
              "      <td>NaN</td>\n",
              "      <td>NaN</td>\n",
              "      <td>NaN</td>\n",
              "      <td>NaN</td>\n",
              "      <td>NaN</td>\n",
              "      <td>NaN</td>\n",
              "      <td>2003.000000</td>\n",
              "      <td>NaN</td>\n",
              "      <td>105.000000</td>\n",
              "      <td>NaN</td>\n",
              "      <td>NaN</td>\n",
              "      <td>6.000000</td>\n",
              "      <td>NaN</td>\n",
              "      <td>NaN</td>\n",
              "      <td>NaN</td>\n",
              "      <td>NaN</td>\n",
              "      <td>0.0</td>\n",
              "      <td>49577.000000</td>\n",
              "      <td>NaN</td>\n",
              "    </tr>\n",
              "    <tr>\n",
              "      <th>75%</th>\n",
              "      <td>NaN</td>\n",
              "      <td>NaN</td>\n",
              "      <td>NaN</td>\n",
              "      <td>NaN</td>\n",
              "      <td>NaN</td>\n",
              "      <td>NaN</td>\n",
              "      <td>NaN</td>\n",
              "      <td>2008.000000</td>\n",
              "      <td>NaN</td>\n",
              "      <td>150.000000</td>\n",
              "      <td>NaN</td>\n",
              "      <td>NaN</td>\n",
              "      <td>9.000000</td>\n",
              "      <td>NaN</td>\n",
              "      <td>NaN</td>\n",
              "      <td>NaN</td>\n",
              "      <td>NaN</td>\n",
              "      <td>0.0</td>\n",
              "      <td>71540.000000</td>\n",
              "      <td>NaN</td>\n",
              "    </tr>\n",
              "    <tr>\n",
              "      <th>max</th>\n",
              "      <td>NaN</td>\n",
              "      <td>NaN</td>\n",
              "      <td>NaN</td>\n",
              "      <td>NaN</td>\n",
              "      <td>NaN</td>\n",
              "      <td>NaN</td>\n",
              "      <td>NaN</td>\n",
              "      <td>9999.000000</td>\n",
              "      <td>NaN</td>\n",
              "      <td>17700.000000</td>\n",
              "      <td>NaN</td>\n",
              "      <td>NaN</td>\n",
              "      <td>12.000000</td>\n",
              "      <td>NaN</td>\n",
              "      <td>NaN</td>\n",
              "      <td>NaN</td>\n",
              "      <td>NaN</td>\n",
              "      <td>0.0</td>\n",
              "      <td>99998.000000</td>\n",
              "      <td>NaN</td>\n",
              "    </tr>\n",
              "  </tbody>\n",
              "</table>\n",
              "</div>"
            ],
            "text/plain": [
              "                 ad_crawled         name  ...   postal_code            last_seen\n",
              "count                 50000        50000  ...  50000.000000                50000\n",
              "unique                48213        38754  ...           NaN                39481\n",
              "top     2016-03-23 18:39:34  Ford_Fiesta  ...           NaN  2016-04-07 06:17:27\n",
              "freq                      3           78  ...           NaN                    8\n",
              "mean                    NaN          NaN  ...  50813.627300                  NaN\n",
              "std                     NaN          NaN  ...  25779.747957                  NaN\n",
              "min                     NaN          NaN  ...   1067.000000                  NaN\n",
              "25%                     NaN          NaN  ...  30451.000000                  NaN\n",
              "50%                     NaN          NaN  ...  49577.000000                  NaN\n",
              "75%                     NaN          NaN  ...  71540.000000                  NaN\n",
              "max                     NaN          NaN  ...  99998.000000                  NaN\n",
              "\n",
              "[11 rows x 20 columns]"
            ]
          },
          "metadata": {},
          "execution_count": 9
        }
      ]
    },
    {
      "cell_type": "markdown",
      "metadata": {
        "id": "8Dm5w472-KUW"
      },
      "source": [
        "Temos que:\n",
        "Colunas com valores estranhos: number_of_pictures, registration_year\n",
        "\n",
        "Colunas com valores redundantes: offer_type e seller\n",
        "\n",
        "Colunas com valores que poderiam se tornar numéricos: odometer, price"
      ]
    },
    {
      "cell_type": "markdown",
      "metadata": {
        "id": "8OjEWPsh-KUW"
      },
      "source": [
        "Agora iremos transformar os dados de odômetro e preço em valores numéricos."
      ]
    },
    {
      "cell_type": "code",
      "metadata": {
        "id": "-4GVFp7--KUW"
      },
      "source": [
        "autos['price'] = autos['price'].str.replace('$','').str.replace(',','').astype(int)\n",
        "autos['odometer'] = autos['odometer'].str.replace('km','').str.replace(',','').astype(int)\n",
        "autos.rename(columns = {'odometer' : 'odometer_km'}, inplace = True)"
      ],
      "execution_count": 10,
      "outputs": []
    },
    {
      "cell_type": "markdown",
      "metadata": {
        "id": "9yF6ISjV-KUX"
      },
      "source": [
        "### Retirando valores outliers\n",
        "\n",
        "Outliers são valores que se diferenciam demais do resto dos valores e que levanta suspeitas de sua veracidade. Iremos retira-los."
      ]
    },
    {
      "cell_type": "code",
      "metadata": {
        "id": "xJirwT6m-KUX",
        "colab": {
          "base_uri": "https://localhost:8080/",
          "height": 394
        },
        "outputId": "16e56c5c-4500-4a47-fa5f-1b0145e08232"
      },
      "source": [
        "autos.head()"
      ],
      "execution_count": 11,
      "outputs": [
        {
          "output_type": "execute_result",
          "data": {
            "text/html": [
              "<div>\n",
              "<style scoped>\n",
              "    .dataframe tbody tr th:only-of-type {\n",
              "        vertical-align: middle;\n",
              "    }\n",
              "\n",
              "    .dataframe tbody tr th {\n",
              "        vertical-align: top;\n",
              "    }\n",
              "\n",
              "    .dataframe thead th {\n",
              "        text-align: right;\n",
              "    }\n",
              "</style>\n",
              "<table border=\"1\" class=\"dataframe\">\n",
              "  <thead>\n",
              "    <tr style=\"text-align: right;\">\n",
              "      <th></th>\n",
              "      <th>ad_crawled</th>\n",
              "      <th>name</th>\n",
              "      <th>seller</th>\n",
              "      <th>offer_type</th>\n",
              "      <th>price</th>\n",
              "      <th>abtest</th>\n",
              "      <th>vehicle_type</th>\n",
              "      <th>registration_year</th>\n",
              "      <th>gearbox</th>\n",
              "      <th>power_ps</th>\n",
              "      <th>model</th>\n",
              "      <th>odometer_km</th>\n",
              "      <th>registration_month</th>\n",
              "      <th>fuel_type</th>\n",
              "      <th>brand</th>\n",
              "      <th>unrepaired_damage</th>\n",
              "      <th>ad_created</th>\n",
              "      <th>number_of_pictures</th>\n",
              "      <th>postal_code</th>\n",
              "      <th>last_seen</th>\n",
              "    </tr>\n",
              "  </thead>\n",
              "  <tbody>\n",
              "    <tr>\n",
              "      <th>0</th>\n",
              "      <td>2016-03-26 17:47:46</td>\n",
              "      <td>Peugeot_807_160_NAVTECH_ON_BOARD</td>\n",
              "      <td>privat</td>\n",
              "      <td>Angebot</td>\n",
              "      <td>5000</td>\n",
              "      <td>control</td>\n",
              "      <td>bus</td>\n",
              "      <td>2004</td>\n",
              "      <td>manuell</td>\n",
              "      <td>158</td>\n",
              "      <td>andere</td>\n",
              "      <td>150000</td>\n",
              "      <td>3</td>\n",
              "      <td>lpg</td>\n",
              "      <td>peugeot</td>\n",
              "      <td>nein</td>\n",
              "      <td>2016-03-26 00:00:00</td>\n",
              "      <td>0</td>\n",
              "      <td>79588</td>\n",
              "      <td>2016-04-06 06:45:54</td>\n",
              "    </tr>\n",
              "    <tr>\n",
              "      <th>1</th>\n",
              "      <td>2016-04-04 13:38:56</td>\n",
              "      <td>BMW_740i_4_4_Liter_HAMANN_UMBAU_Mega_Optik</td>\n",
              "      <td>privat</td>\n",
              "      <td>Angebot</td>\n",
              "      <td>8500</td>\n",
              "      <td>control</td>\n",
              "      <td>limousine</td>\n",
              "      <td>1997</td>\n",
              "      <td>automatik</td>\n",
              "      <td>286</td>\n",
              "      <td>7er</td>\n",
              "      <td>150000</td>\n",
              "      <td>6</td>\n",
              "      <td>benzin</td>\n",
              "      <td>bmw</td>\n",
              "      <td>nein</td>\n",
              "      <td>2016-04-04 00:00:00</td>\n",
              "      <td>0</td>\n",
              "      <td>71034</td>\n",
              "      <td>2016-04-06 14:45:08</td>\n",
              "    </tr>\n",
              "    <tr>\n",
              "      <th>2</th>\n",
              "      <td>2016-03-26 18:57:24</td>\n",
              "      <td>Volkswagen_Golf_1.6_United</td>\n",
              "      <td>privat</td>\n",
              "      <td>Angebot</td>\n",
              "      <td>8990</td>\n",
              "      <td>test</td>\n",
              "      <td>limousine</td>\n",
              "      <td>2009</td>\n",
              "      <td>manuell</td>\n",
              "      <td>102</td>\n",
              "      <td>golf</td>\n",
              "      <td>70000</td>\n",
              "      <td>7</td>\n",
              "      <td>benzin</td>\n",
              "      <td>volkswagen</td>\n",
              "      <td>nein</td>\n",
              "      <td>2016-03-26 00:00:00</td>\n",
              "      <td>0</td>\n",
              "      <td>35394</td>\n",
              "      <td>2016-04-06 20:15:37</td>\n",
              "    </tr>\n",
              "    <tr>\n",
              "      <th>3</th>\n",
              "      <td>2016-03-12 16:58:10</td>\n",
              "      <td>Smart_smart_fortwo_coupe_softouch/F1/Klima/Pan...</td>\n",
              "      <td>privat</td>\n",
              "      <td>Angebot</td>\n",
              "      <td>4350</td>\n",
              "      <td>control</td>\n",
              "      <td>kleinwagen</td>\n",
              "      <td>2007</td>\n",
              "      <td>automatik</td>\n",
              "      <td>71</td>\n",
              "      <td>fortwo</td>\n",
              "      <td>70000</td>\n",
              "      <td>6</td>\n",
              "      <td>benzin</td>\n",
              "      <td>smart</td>\n",
              "      <td>nein</td>\n",
              "      <td>2016-03-12 00:00:00</td>\n",
              "      <td>0</td>\n",
              "      <td>33729</td>\n",
              "      <td>2016-03-15 03:16:28</td>\n",
              "    </tr>\n",
              "    <tr>\n",
              "      <th>4</th>\n",
              "      <td>2016-04-01 14:38:50</td>\n",
              "      <td>Ford_Focus_1_6_Benzin_TÜV_neu_ist_sehr_gepfleg...</td>\n",
              "      <td>privat</td>\n",
              "      <td>Angebot</td>\n",
              "      <td>1350</td>\n",
              "      <td>test</td>\n",
              "      <td>kombi</td>\n",
              "      <td>2003</td>\n",
              "      <td>manuell</td>\n",
              "      <td>0</td>\n",
              "      <td>focus</td>\n",
              "      <td>150000</td>\n",
              "      <td>7</td>\n",
              "      <td>benzin</td>\n",
              "      <td>ford</td>\n",
              "      <td>nein</td>\n",
              "      <td>2016-04-01 00:00:00</td>\n",
              "      <td>0</td>\n",
              "      <td>39218</td>\n",
              "      <td>2016-04-01 14:38:50</td>\n",
              "    </tr>\n",
              "  </tbody>\n",
              "</table>\n",
              "</div>"
            ],
            "text/plain": [
              "            ad_crawled  ...            last_seen\n",
              "0  2016-03-26 17:47:46  ...  2016-04-06 06:45:54\n",
              "1  2016-04-04 13:38:56  ...  2016-04-06 14:45:08\n",
              "2  2016-03-26 18:57:24  ...  2016-04-06 20:15:37\n",
              "3  2016-03-12 16:58:10  ...  2016-03-15 03:16:28\n",
              "4  2016-04-01 14:38:50  ...  2016-04-01 14:38:50\n",
              "\n",
              "[5 rows x 20 columns]"
            ]
          },
          "metadata": {},
          "execution_count": 11
        }
      ]
    },
    {
      "cell_type": "code",
      "metadata": {
        "id": "rNiiT3WL-KUX",
        "colab": {
          "base_uri": "https://localhost:8080/"
        },
        "outputId": "167a412c-a027-4ee8-98d4-8a999803eac7"
      },
      "source": [
        "autos['odometer_km'].describe()\n",
        "autos['odometer_km'].value_counts().sort_index(ascending=True)"
      ],
      "execution_count": 12,
      "outputs": [
        {
          "output_type": "execute_result",
          "data": {
            "text/plain": [
              "5000        967\n",
              "10000       264\n",
              "20000       784\n",
              "30000       789\n",
              "40000       819\n",
              "50000      1027\n",
              "60000      1164\n",
              "70000      1230\n",
              "80000      1436\n",
              "90000      1757\n",
              "100000     2169\n",
              "125000     5170\n",
              "150000    32424\n",
              "Name: odometer_km, dtype: int64"
            ]
          },
          "metadata": {},
          "execution_count": 12
        }
      ]
    },
    {
      "cell_type": "code",
      "metadata": {
        "id": "0-Gp1soG-KUY",
        "colab": {
          "base_uri": "https://localhost:8080/"
        },
        "outputId": "b9165bc7-dff4-41a4-e00b-5592b2245122"
      },
      "source": [
        "autos['price'].describe()\n",
        "autos['price'].value_counts().sort_index(ascending=True).tail(50)"
      ],
      "execution_count": 13,
      "outputs": [
        {
          "output_type": "execute_result",
          "data": {
            "text/plain": [
              "98500       1\n",
              "99000       2\n",
              "99900       2\n",
              "104900      1\n",
              "105000      2\n",
              "109999      1\n",
              "114400      1\n",
              "115000      1\n",
              "115991      1\n",
              "116000      1\n",
              "119500      1\n",
              "119900      1\n",
              "120000      2\n",
              "128000      1\n",
              "129000      1\n",
              "130000      1\n",
              "135000      1\n",
              "137999      1\n",
              "139997      1\n",
              "145000      1\n",
              "151990      1\n",
              "155000      1\n",
              "163500      1\n",
              "163991      1\n",
              "169000      1\n",
              "169999      1\n",
              "175000      1\n",
              "180000      1\n",
              "190000      1\n",
              "194000      1\n",
              "197000      1\n",
              "198000      1\n",
              "220000      1\n",
              "250000      1\n",
              "259000      1\n",
              "265000      1\n",
              "295000      1\n",
              "299000      1\n",
              "345000      1\n",
              "350000      1\n",
              "999990      1\n",
              "999999      2\n",
              "1234566     1\n",
              "1300000     1\n",
              "3890000     1\n",
              "10000000    1\n",
              "11111111    2\n",
              "12345678    3\n",
              "27322222    1\n",
              "99999999    1\n",
              "Name: price, dtype: int64"
            ]
          },
          "metadata": {},
          "execution_count": 13
        }
      ]
    },
    {
      "cell_type": "markdown",
      "metadata": {
        "id": "ezLK4Xec-KUY"
      },
      "source": [
        "Não foi identificado um outliers considerável no odômetro, mas no preço sim. Logo, removemos os valores que eram menores que 500 e maiores que 100.000."
      ]
    },
    {
      "cell_type": "code",
      "metadata": {
        "id": "4eo5K8gO-KUZ"
      },
      "source": [
        "autos = autos[autos['price'].between(500,100000)]"
      ],
      "execution_count": 14,
      "outputs": []
    },
    {
      "cell_type": "markdown",
      "metadata": {
        "id": "FG4r9s0L-KUZ"
      },
      "source": [
        "### Calculando distribuição de valores por data\n",
        "\n",
        "Nesse ponto iremos utilizar as datas para criar uma distribuição que nos dirá a porcentagem de vendas em cada dia, utilizando as colunas que contém datas."
      ]
    },
    {
      "cell_type": "code",
      "metadata": {
        "id": "R79C471b-KUZ",
        "colab": {
          "base_uri": "https://localhost:8080/"
        },
        "outputId": "cce7be0a-7d2d-4c69-ee63-d351d6362488"
      },
      "source": [
        "autos['ad_crawled'].str[:10].value_counts(normalize = True, dropna = False).sort_index()"
      ],
      "execution_count": 15,
      "outputs": [
        {
          "output_type": "execute_result",
          "data": {
            "text/plain": [
              "2016-03-05    0.025545\n",
              "2016-03-06    0.014137\n",
              "2016-03-07    0.036220\n",
              "2016-03-08    0.033157\n",
              "2016-03-09    0.032913\n",
              "2016-03-10    0.032736\n",
              "2016-03-11    0.033046\n",
              "2016-03-12    0.037330\n",
              "2016-03-13    0.015536\n",
              "2016-03-14    0.036331\n",
              "2016-03-15    0.034001\n",
              "2016-03-16    0.029362\n",
              "2016-03-17    0.031160\n",
              "2016-03-18    0.012850\n",
              "2016-03-19    0.034777\n",
              "2016-03-20    0.038084\n",
              "2016-03-21    0.037729\n",
              "2016-03-22    0.032935\n",
              "2016-03-23    0.032403\n",
              "2016-03-24    0.028985\n",
              "2016-03-25    0.031093\n",
              "2016-03-26    0.032625\n",
              "2016-03-27    0.031160\n",
              "2016-03-28    0.034822\n",
              "2016-03-29    0.033290\n",
              "2016-03-30    0.033290\n",
              "2016-03-31    0.031670\n",
              "2016-04-01    0.033867\n",
              "2016-04-02    0.035798\n",
              "2016-04-03    0.038817\n",
              "2016-04-04    0.036642\n",
              "2016-04-05    0.013161\n",
              "2016-04-06    0.003174\n",
              "2016-04-07    0.001354\n",
              "Name: ad_crawled, dtype: float64"
            ]
          },
          "metadata": {},
          "execution_count": 15
        }
      ]
    },
    {
      "cell_type": "markdown",
      "metadata": {
        "id": "aSvZZTnu-KUa"
      },
      "source": [
        "Distribuição de valores da colunas ad_crawled"
      ]
    },
    {
      "cell_type": "code",
      "metadata": {
        "id": "sy5ETmt9-KUa",
        "colab": {
          "base_uri": "https://localhost:8080/"
        },
        "outputId": "c6da640b-b84a-4d8f-f9b7-355e9811f468"
      },
      "source": [
        "autos['ad_created'].str[:10].value_counts(normalize = True, dropna = False).sort_index()"
      ],
      "execution_count": 16,
      "outputs": [
        {
          "output_type": "execute_result",
          "data": {
            "text/plain": [
              "2015-06-11    0.000022\n",
              "2015-08-10    0.000022\n",
              "2015-09-09    0.000022\n",
              "2015-11-10    0.000022\n",
              "2015-12-05    0.000022\n",
              "                ...   \n",
              "2016-04-03    0.039039\n",
              "2016-04-04    0.037019\n",
              "2016-04-05    0.011896\n",
              "2016-04-06    0.003262\n",
              "2016-04-07    0.001198\n",
              "Name: ad_created, Length: 76, dtype: float64"
            ]
          },
          "metadata": {},
          "execution_count": 16
        }
      ]
    },
    {
      "cell_type": "markdown",
      "metadata": {
        "id": "kjQ9G-zT-KUa"
      },
      "source": [
        "Distribuição de valores da colunas ad_created"
      ]
    },
    {
      "cell_type": "code",
      "metadata": {
        "id": "YjAEXikB-KUb",
        "colab": {
          "base_uri": "https://localhost:8080/"
        },
        "outputId": "6d6ae3c8-58f8-4b9f-8643-b67ac368e1f1"
      },
      "source": [
        "autos['last_seen'].str[:10].value_counts(normalize = True, dropna = False).sort_index()"
      ],
      "execution_count": 17,
      "outputs": [
        {
          "output_type": "execute_result",
          "data": {
            "text/plain": [
              "2016-03-05    0.001087\n",
              "2016-03-06    0.004172\n",
              "2016-03-07    0.005216\n",
              "2016-03-08    0.007013\n",
              "2016-03-09    0.009454\n",
              "2016-03-10    0.010298\n",
              "2016-03-11    0.012051\n",
              "2016-03-12    0.023925\n",
              "2016-03-13    0.008877\n",
              "2016-03-14    0.012295\n",
              "2016-03-15    0.015691\n",
              "2016-03-16    0.016157\n",
              "2016-03-17    0.027698\n",
              "2016-03-18    0.007390\n",
              "2016-03-19    0.015425\n",
              "2016-03-20    0.020418\n",
              "2016-03-21    0.020662\n",
              "2016-03-22    0.021261\n",
              "2016-03-23    0.018399\n",
              "2016-03-24    0.019508\n",
              "2016-03-25    0.018598\n",
              "2016-03-26    0.016423\n",
              "2016-03-27    0.015447\n",
              "2016-03-28    0.020529\n",
              "2016-03-29    0.021372\n",
              "2016-03-30    0.024169\n",
              "2016-03-31    0.023459\n",
              "2016-04-01    0.022882\n",
              "2016-04-02    0.024879\n",
              "2016-04-03    0.024946\n",
              "2016-04-04    0.024324\n",
              "2016-04-05    0.126481\n",
              "2016-04-06    0.225354\n",
              "2016-04-07    0.134138\n",
              "Name: last_seen, dtype: float64"
            ]
          },
          "metadata": {},
          "execution_count": 17
        }
      ]
    },
    {
      "cell_type": "markdown",
      "metadata": {
        "id": "-lrGYmye-KUb"
      },
      "source": [
        "Distribuição de valores da colunas last_seen"
      ]
    },
    {
      "cell_type": "markdown",
      "metadata": {
        "id": "R7gpM6yU-KUb"
      },
      "source": [
        "### Explorando ano de registro dos carros\n",
        "\n",
        "Iremos explorar se existem valores anormais para os registros dos carros."
      ]
    },
    {
      "cell_type": "code",
      "metadata": {
        "id": "-EYWoOe1-KUb",
        "colab": {
          "base_uri": "https://localhost:8080/"
        },
        "outputId": "f24d8750-8f18-4a5f-8d2a-e9de69021cd6"
      },
      "source": [
        "autos['registration_year'].describe()"
      ],
      "execution_count": 18,
      "outputs": [
        {
          "output_type": "execute_result",
          "data": {
            "text/plain": [
              "count    45058.000000\n",
              "mean      2005.063918\n",
              "std         89.689852\n",
              "min       1000.000000\n",
              "25%       2000.000000\n",
              "50%       2004.000000\n",
              "75%       2008.000000\n",
              "max       9999.000000\n",
              "Name: registration_year, dtype: float64"
            ]
          },
          "metadata": {},
          "execution_count": 18
        }
      ]
    },
    {
      "cell_type": "markdown",
      "metadata": {
        "id": "Lpat9BCM-KUb"
      },
      "source": [
        "Os valores máximos e mínimos indicam haver alguns erros, já que não é possível valores de ano igual a 1000 ou 9999."
      ]
    },
    {
      "cell_type": "markdown",
      "metadata": {
        "id": "DKhSu_ba-KUb"
      },
      "source": [
        "Consideraremos os anos entre 1950 e 2016 como valores razoáveis"
      ]
    },
    {
      "cell_type": "code",
      "metadata": {
        "id": "YetjwkX1-KUb"
      },
      "source": [
        "autos = autos[autos['registration_year'].between(1950, 2016)]"
      ],
      "execution_count": 19,
      "outputs": []
    },
    {
      "cell_type": "code",
      "metadata": {
        "id": "Tor7_kZG-KUb",
        "colab": {
          "base_uri": "https://localhost:8080/"
        },
        "outputId": "32ec1f78-ae56-48c2-ffdc-e492019524e9"
      },
      "source": [
        "autos['registration_year'].value_counts(normalize = True, dropna = False).sort_index().head(50)"
      ],
      "execution_count": 20,
      "outputs": [
        {
          "output_type": "execute_result",
          "data": {
            "text/plain": [
              "1950    0.000023\n",
              "1951    0.000023\n",
              "1952    0.000023\n",
              "1953    0.000023\n",
              "1954    0.000046\n",
              "1955    0.000046\n",
              "1956    0.000092\n",
              "1957    0.000046\n",
              "1958    0.000092\n",
              "1959    0.000139\n",
              "1960    0.000439\n",
              "1961    0.000139\n",
              "1962    0.000092\n",
              "1963    0.000185\n",
              "1964    0.000254\n",
              "1965    0.000393\n",
              "1966    0.000485\n",
              "1967    0.000601\n",
              "1968    0.000578\n",
              "1969    0.000439\n",
              "1970    0.000786\n",
              "1971    0.000578\n",
              "1972    0.000716\n",
              "1973    0.000532\n",
              "1974    0.000555\n",
              "1975    0.000416\n",
              "1976    0.000485\n",
              "1977    0.000485\n",
              "1978    0.000971\n",
              "1979    0.000786\n",
              "1980    0.001757\n",
              "1981    0.000624\n",
              "1982    0.000948\n",
              "1983    0.001156\n",
              "1984    0.001133\n",
              "1985    0.001965\n",
              "1986    0.001502\n",
              "1987    0.001572\n",
              "1988    0.002958\n",
              "1989    0.003582\n",
              "1990    0.006333\n",
              "1991    0.006772\n",
              "1992    0.007026\n",
              "1993    0.007858\n",
              "1994    0.011556\n",
              "1995    0.019853\n",
              "1996    0.024776\n",
              "1997    0.034923\n",
              "1998    0.046756\n",
              "1999    0.059445\n",
              "Name: registration_year, dtype: float64"
            ]
          },
          "metadata": {},
          "execution_count": 20
        }
      ]
    },
    {
      "cell_type": "markdown",
      "metadata": {
        "id": "qtLmAoau-KUc"
      },
      "source": [
        "É possível ver que a maioria dos carros são dos anos depois de 1980"
      ]
    },
    {
      "cell_type": "markdown",
      "metadata": {
        "id": "4rrCzrZW-KUc"
      },
      "source": [
        "### Explorando os dados de marcas\n",
        "\n",
        "Iremos identificar as marcas que mais vendem."
      ]
    },
    {
      "cell_type": "code",
      "metadata": {
        "id": "rt8tyFwA-KUc",
        "colab": {
          "base_uri": "https://localhost:8080/"
        },
        "outputId": "0f57ce07-eb23-4f93-e766-dd47547a4dd6"
      },
      "source": [
        "autos['brand'].unique()"
      ],
      "execution_count": 21,
      "outputs": [
        {
          "output_type": "execute_result",
          "data": {
            "text/plain": [
              "array(['peugeot', 'bmw', 'volkswagen', 'smart', 'ford', 'chrysler',\n",
              "       'renault', 'audi', 'sonstige_autos', 'mazda', 'porsche', 'mini',\n",
              "       'mercedes_benz', 'seat', 'toyota', 'opel', 'dacia', 'nissan',\n",
              "       'jeep', 'saab', 'volvo', 'jaguar', 'fiat', 'skoda', 'subaru',\n",
              "       'kia', 'citroen', 'mitsubishi', 'chevrolet', 'hyundai', 'honda',\n",
              "       'daewoo', 'suzuki', 'trabant', 'land_rover', 'alfa_romeo', 'lada',\n",
              "       'rover', 'daihatsu', 'lancia'], dtype=object)"
            ]
          },
          "metadata": {},
          "execution_count": 21
        }
      ]
    },
    {
      "cell_type": "code",
      "metadata": {
        "id": "-BEPC8DQ-KUc",
        "colab": {
          "base_uri": "https://localhost:8080/"
        },
        "outputId": "3ad45dc9-ba30-4e23-9a9d-a1843da7859d"
      },
      "source": [
        "autos['brand'].value_counts(normalize=True)"
      ],
      "execution_count": 22,
      "outputs": [
        {
          "output_type": "execute_result",
          "data": {
            "text/plain": [
              "volkswagen        0.212148\n",
              "bmw               0.115076\n",
              "mercedes_benz     0.102272\n",
              "opel              0.100423\n",
              "audi              0.090600\n",
              "ford              0.065154\n",
              "renault           0.043936\n",
              "peugeot           0.029399\n",
              "fiat              0.023551\n",
              "seat              0.017912\n",
              "skoda             0.017172\n",
              "smart             0.015139\n",
              "nissan            0.015023\n",
              "mazda             0.015023\n",
              "citroen           0.014168\n",
              "toyota            0.013428\n",
              "hyundai           0.010169\n",
              "sonstige_autos    0.009430\n",
              "mini              0.009384\n",
              "volvo             0.009384\n",
              "honda             0.007812\n",
              "mitsubishi        0.007743\n",
              "kia               0.007350\n",
              "alfa_romeo        0.006633\n",
              "chevrolet         0.006032\n",
              "suzuki            0.005917\n",
              "porsche           0.005824\n",
              "chrysler          0.003606\n",
              "dacia             0.002843\n",
              "jeep              0.002450\n",
              "land_rover        0.002265\n",
              "daihatsu          0.002173\n",
              "subaru            0.001988\n",
              "saab              0.001664\n",
              "jaguar            0.001618\n",
              "daewoo            0.001341\n",
              "rover             0.001248\n",
              "trabant           0.001109\n",
              "lancia            0.000994\n",
              "lada              0.000601\n",
              "Name: brand, dtype: float64"
            ]
          },
          "metadata": {},
          "execution_count": 22
        }
      ]
    },
    {
      "cell_type": "markdown",
      "metadata": {
        "id": "3HcZXs7f-KUc"
      },
      "source": [
        "É possível ver que a marca que mais vende é a Volkswagen. Agora iremos escolher as marcas com maior porcentagem de vendas e checar seu preço médio. Escolheremos as marcas que tem uma porcentagem maior que 5% para utilizar."
      ]
    },
    {
      "cell_type": "code",
      "metadata": {
        "id": "kcTikQLs-KUc",
        "colab": {
          "base_uri": "https://localhost:8080/"
        },
        "outputId": "d6c63452-ff8d-46a9-d622-eee745536391"
      },
      "source": [
        "brand_counts = autos['brand'].value_counts(normalize=True)\n",
        "best_brands = brand_counts[brand_counts > 0.05].index\n",
        "print(best_brands)"
      ],
      "execution_count": 23,
      "outputs": [
        {
          "output_type": "stream",
          "name": "stdout",
          "text": [
            "Index(['volkswagen', 'bmw', 'mercedes_benz', 'opel', 'audi', 'ford'], dtype='object')\n"
          ]
        }
      ]
    },
    {
      "cell_type": "markdown",
      "metadata": {
        "id": "wShEuHe7kGS9"
      },
      "source": [
        "Criaremos uma função para que preencherá a média de uma série por marcas"
      ]
    },
    {
      "cell_type": "code",
      "metadata": {
        "id": "Q0-MoMVokj3N"
      },
      "source": [
        "def brands_mean_column(some_brands, data, column):\n",
        "    \"\"\"Retorna uma média da coluna escolhida para as marcas selecionadas.\n",
        "\n",
        "    Args:\n",
        "        some_brands (str): Marcas escolhidas.\n",
        "        data (pandas dataframe): DataFrame com os dados.\n",
        "        column (str): Coluna escolhida.\n",
        "\n",
        "    Return:\n",
        "        Dict: Um dicionário com as marcas como palavras chaves\n",
        "        e os valores médios das marcas.\n",
        "    \"\"\"\n",
        "    brands_mean = {}\n",
        "    for brand in some_brands:\n",
        "        brand_chosen = data[data['brand'] == brand]\n",
        "        mean_column = brand_chosen[column].mean()\n",
        "        brands_mean[brand] = int(mean_column)\n",
        "    return brands_mean"
      ],
      "execution_count": 24,
      "outputs": []
    },
    {
      "cell_type": "code",
      "metadata": {
        "colab": {
          "base_uri": "https://localhost:8080/"
        },
        "id": "1s6D4MrIl5aj",
        "outputId": "480033e4-4d6a-4294-9ebb-e6fc529ac168"
      },
      "source": [
        "brands_mean_prices = brands_mean_column(best_brands, autos, column='price')\n",
        "print(brands_mean_prices)"
      ],
      "execution_count": 25,
      "outputs": [
        {
          "output_type": "stream",
          "name": "stdout",
          "text": [
            "{'volkswagen': 5779, 'bmw': 8446, 'mercedes_benz': 8663, 'opel': 3394, 'audi': 9571, 'ford': 4233}\n"
          ]
        }
      ]
    },
    {
      "cell_type": "markdown",
      "metadata": {
        "id": "pyZ8iGN1-KUd"
      },
      "source": [
        "Esses são os preços médios de cada marca. A Audi tem o maior preço médio, junto com Mercedes Benz e BMW, enquanto a Opel e a Ford tem o menor. A Volkswagen tem um valor médio, o que pode explicar ser a marca que mais vende."
      ]
    },
    {
      "cell_type": "markdown",
      "metadata": {
        "id": "_RfkH-_r-KUe"
      },
      "source": [
        "### Analisando os dados de preços com os de quilometragem\n",
        "\n",
        "Para essa análise, iremos criar um dataframe com as séries de preços já calculadas e com uma série de quilometragem. Para isso, iremos criar um dicionário com as quilometragens por marca."
      ]
    },
    {
      "cell_type": "code",
      "metadata": {
        "colab": {
          "base_uri": "https://localhost:8080/"
        },
        "id": "JHqKV0x_mZbb",
        "outputId": "ac37bf8e-a5e2-4617-9eaf-ae0d1eed3522"
      },
      "source": [
        "brands_mean_km = brands_mean_column(best_brands, autos, column='odometer_km')\n",
        "print(brands_mean_km)"
      ],
      "execution_count": 26,
      "outputs": [
        {
          "output_type": "stream",
          "name": "stdout",
          "text": [
            "{'volkswagen': 128237, 'bmw': 132954, 'mercedes_benz': 131127, 'opel': 128035, 'audi': 128941, 'ford': 123644}\n"
          ]
        }
      ]
    },
    {
      "cell_type": "markdown",
      "metadata": {
        "id": "gSJq7Qom-KUe"
      },
      "source": [
        "Agora criaremos o dataframe."
      ]
    },
    {
      "cell_type": "code",
      "metadata": {
        "id": "glPENL17-KUe",
        "colab": {
          "base_uri": "https://localhost:8080/"
        },
        "outputId": "1fdef09b-b1ae-4cd3-8799-39dcef2b100e"
      },
      "source": [
        "bmp_series = pd.Series(brands_mean_prices).sort_values()\n",
        "bmk_series = pd.Series(brands_mean_km)\n",
        "\n",
        "df = pd.DataFrame(bmp_series, columns = ['mean_price'])\n",
        "df['mean_km'] = bmk_series\n",
        "print(df)"
      ],
      "execution_count": 27,
      "outputs": [
        {
          "output_type": "stream",
          "name": "stdout",
          "text": [
            "               mean_price  mean_km\n",
            "opel                 3394   128035\n",
            "ford                 4233   123644\n",
            "volkswagen           5779   128237\n",
            "bmw                  8446   132954\n",
            "mercedes_benz        8663   131127\n",
            "audi                 9571   128941\n"
          ]
        }
      ]
    },
    {
      "cell_type": "markdown",
      "metadata": {
        "id": "HXyxIMsG-KUe"
      },
      "source": [
        "Não há uma influência tão grande dos valores de quilometragem tornando os preços dos carros maiores."
      ]
    }
  ]
}